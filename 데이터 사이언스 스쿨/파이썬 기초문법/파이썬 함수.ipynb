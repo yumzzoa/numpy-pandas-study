{
 "cells": [
  {
   "cell_type": "code",
   "execution_count": 1,
   "metadata": {},
   "outputs": [
    {
     "ename": "SyntaxError",
     "evalue": "cannot assign to function call here. Maybe you meant '==' instead of '='? (929749179.py, line 3)",
     "output_type": "error",
     "traceback": [
      "\u001b[1;36m  Cell \u001b[1;32mIn[1], line 3\u001b[1;36m\u001b[0m\n\u001b[1;33m    f(500) = \"생수\"\u001b[0m\n\u001b[1;37m    ^\u001b[0m\n\u001b[1;31mSyntaxError\u001b[0m\u001b[1;31m:\u001b[0m cannot assign to function call here. Maybe you meant '==' instead of '='?\n"
     ]
    }
   ],
   "source": [
    "#함수\n",
    "\n",
    "f(500) = \"생수\"\n",
    "f(1000) = \"콜라\"\n"
   ]
  },
  {
   "cell_type": "code",
   "execution_count": 3,
   "metadata": {},
   "outputs": [
    {
     "data": {
      "text/plain": [
       "4"
      ]
     },
     "execution_count": 3,
     "metadata": {},
     "output_type": "execute_result"
    }
   ],
   "source": [
    "def twotimes(x):\n",
    "    y = 2 * x\n",
    "    return y\n",
    "\n",
    "twotimes(2)"
   ]
  },
  {
   "cell_type": "code",
   "execution_count": 4,
   "metadata": {},
   "outputs": [
    {
     "data": {
      "text/plain": [
       "'짝수'"
      ]
     },
     "execution_count": 4,
     "metadata": {},
     "output_type": "execute_result"
    }
   ],
   "source": [
    "def numbers(x):\n",
    "    if x % 2 == 0:\n",
    "        return \"짝수\"\n",
    "    else:\n",
    "        return \"홀수\"\n",
    "    \n",
    "numbers(2)"
   ]
  },
  {
   "cell_type": "code",
   "execution_count": 6,
   "metadata": {},
   "outputs": [
    {
     "data": {
      "text/plain": [
       "30"
      ]
     },
     "execution_count": 6,
     "metadata": {},
     "output_type": "execute_result"
    }
   ],
   "source": [
    "def days(m):\n",
    "    if m == 1 or m == 3 or m == 5 or m == 7 or m == 8 or m ==10 or m == 12:\n",
    "        return 31\n",
    "    elif m == 4 or m == 6 or m == 9 or m == 11:\n",
    "        return 30\n",
    "    else:\n",
    "        return 28\n",
    "    \n",
    "days(11)"
   ]
  },
  {
   "cell_type": "code",
   "execution_count": 8,
   "metadata": {},
   "outputs": [
    {
     "data": {
      "text/plain": [
       "28"
      ]
     },
     "execution_count": 8,
     "metadata": {},
     "output_type": "execute_result"
    }
   ],
   "source": [
    "#입력이 여러 개인 함수\n",
    "\n",
    "def days2(y, m):\n",
    "    if y % 4 == 0:\n",
    "        if m == 1 or m == 3 or m == 5 or m == 7 or m == 8 or m ==10 or m == 12:\n",
    "            return 31\n",
    "        elif m == 4 or m == 6 or m == 9 or m == 11:\n",
    "            return 30\n",
    "        else:\n",
    "            return 29\n",
    "    if y % 4 != 0:\n",
    "        if m == 1 or m == 3 or m == 5 or m == 7 or m == 8 or m ==10 or m == 12:\n",
    "            return 31\n",
    "        elif m == 4 or m == 6 or m == 9 or m == 11:\n",
    "            return 30\n",
    "        else:\n",
    "            return 28\n",
    "        \n",
    "days2(2015, 2)"
   ]
  },
  {
   "cell_type": "code",
   "execution_count": 10,
   "metadata": {},
   "outputs": [
    {
     "name": "stdout",
     "output_type": "stream",
     "text": [
      "y =  100\n"
     ]
    },
    {
     "data": {
      "text/plain": [
       "100"
      ]
     },
     "execution_count": 10,
     "metadata": {},
     "output_type": "execute_result"
    }
   ],
   "source": [
    "def f(x):\n",
    "    y = 10 * x\n",
    "    print(\"y = \", y)\n",
    "    return y\n",
    "\n",
    "f(10)"
   ]
  },
  {
   "cell_type": "code",
   "execution_count": 13,
   "metadata": {},
   "outputs": [
    {
     "data": {
      "text/plain": [
       "218"
      ]
     },
     "execution_count": 13,
     "metadata": {},
     "output_type": "execute_result"
    }
   ],
   "source": [
    "def diffsum(a, b, c):\n",
    "    if (a+b+c) >= (a**2+b**2+c**2):\n",
    "        y = (a+b+c) - (a**2+b**2+c**2)\n",
    "        return y\n",
    "    else:\n",
    "        y = (a**2+b**2+c**2) - (a+b+c) \n",
    "        return y\n",
    "diffsum(10, 9, 8)\n",
    "    "
   ]
  },
  {
   "cell_type": "code",
   "execution_count": 14,
   "metadata": {},
   "outputs": [
    {
     "name": "stdout",
     "output_type": "stream",
     "text": [
      "y = 30\n",
      "z = 3\n"
     ]
    },
    {
     "data": {
      "text/plain": [
       "30"
      ]
     },
     "execution_count": 14,
     "metadata": {},
     "output_type": "execute_result"
    }
   ],
   "source": [
    "#전역변수\n",
    "z = 3\n",
    "\n",
    "def f2(x):\n",
    "    y = z * x\n",
    "    print(\"y =\", y)\n",
    "    print(\"z =\", z)\n",
    "    return y\n",
    "\n",
    "f2(10)"
   ]
  },
  {
   "cell_type": "code",
   "execution_count": 16,
   "metadata": {},
   "outputs": [
    {
     "name": "stdout",
     "output_type": "stream",
     "text": [
      "y = 990\n",
      "z = 99\n"
     ]
    },
    {
     "data": {
      "text/plain": [
       "990"
      ]
     },
     "execution_count": 16,
     "metadata": {},
     "output_type": "execute_result"
    }
   ],
   "source": [
    "z = 3\n",
    "\n",
    "def f3(x):\n",
    "    z = 99\n",
    "    y = z * x\n",
    "    print(\"y =\", y)\n",
    "    print(\"z =\", z)\n",
    "    return y\n",
    "\n",
    "f3(10)"
   ]
  },
  {
   "cell_type": "code",
   "execution_count": 21,
   "metadata": {},
   "outputs": [
    {
     "name": "stdout",
     "output_type": "stream",
     "text": [
      "y = 990\n",
      "z = 99\n"
     ]
    },
    {
     "data": {
      "text/plain": [
       "990"
      ]
     },
     "execution_count": 21,
     "metadata": {},
     "output_type": "execute_result"
    }
   ],
   "source": [
    "z = 3\n",
    "\n",
    "def f4(x):\n",
    "    global z\n",
    "    z = 99\n",
    "    y = z * x\n",
    "    print(\"y =\", y)\n",
    "    print(\"z =\", z)\n",
    "    return y\n",
    "\n",
    "f4(10)\n"
   ]
  },
  {
   "cell_type": "code",
   "execution_count": 22,
   "metadata": {},
   "outputs": [
    {
     "data": {
      "text/plain": [
       "0"
      ]
     },
     "execution_count": 22,
     "metadata": {},
     "output_type": "execute_result"
    }
   ],
   "source": [
    "m = 0\n",
    "\n",
    "def diffsum(a, b, c):\n",
    "    y = (a**2+b**2+c**2) - (a+b+c) \n",
    "    return y\n",
    "\n",
    "def diffsum2(a, b, c):\n",
    "    y = diffsum(a,b,c)\n",
    "    if y>m:\n",
    "        return m\n",
    "    else:\n",
    "        return y\n",
    "    \n",
    "diffsum2(2, 1, 1)"
   ]
  },
  {
   "cell_type": "code",
   "execution_count": null,
   "metadata": {},
   "outputs": [],
   "source": []
  }
 ],
 "metadata": {
  "kernelspec": {
   "display_name": "Python 3",
   "language": "python",
   "name": "python3"
  },
  "language_info": {
   "codemirror_mode": {
    "name": "ipython",
    "version": 3
   },
   "file_extension": ".py",
   "mimetype": "text/x-python",
   "name": "python",
   "nbconvert_exporter": "python",
   "pygments_lexer": "ipython3",
   "version": "3.11.4"
  },
  "orig_nbformat": 4
 },
 "nbformat": 4,
 "nbformat_minor": 2
}
