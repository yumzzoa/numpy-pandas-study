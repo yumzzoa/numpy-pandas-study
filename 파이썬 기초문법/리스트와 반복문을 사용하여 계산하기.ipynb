{
 "cells": [
  {
   "cell_type": "code",
   "execution_count": 1,
   "metadata": {},
   "outputs": [
    {
     "data": {
      "text/plain": [
       "[90, 85, 95, 80, 90, 100, 85, 75, 85, 80]"
      ]
     },
     "execution_count": 1,
     "metadata": {},
     "output_type": "execute_result"
    }
   ],
   "source": [
    "a = [90, 85, 95, 80, 90, 100, 85, 75, 85, 80]\n",
    "a"
   ]
  },
  {
   "cell_type": "code",
   "execution_count": 2,
   "metadata": {},
   "outputs": [
    {
     "data": {
      "text/plain": [
       "10"
      ]
     },
     "execution_count": 2,
     "metadata": {},
     "output_type": "execute_result"
    }
   ],
   "source": [
    "len(a)"
   ]
  },
  {
   "cell_type": "code",
   "execution_count": 4,
   "metadata": {},
   "outputs": [
    {
     "data": {
      "text/plain": [
       "86.5"
      ]
     },
     "execution_count": 4,
     "metadata": {},
     "output_type": "execute_result"
    }
   ],
   "source": [
    "sum = 0\n",
    "for i in range(len(a)):\n",
    "    sum = sum + a[i]\n",
    "average = sum / len(a)\n",
    "\n",
    "average"
   ]
  },
  {
   "cell_type": "code",
   "execution_count": 5,
   "metadata": {},
   "outputs": [
    {
     "data": {
      "text/plain": [
       "[185, 175, 185, 170, 185, 200, 175, 155, 180, 170]"
      ]
     },
     "execution_count": 5,
     "metadata": {},
     "output_type": "execute_result"
    }
   ],
   "source": [
    "s = []\n",
    "a1 = [90, 85, 95, 80, 90, 100, 85, 75, 85, 80]\n",
    "a2 = [95, 90, 90, 90, 95, 100, 90, 80, 95, 90]\n",
    "\n",
    "for i in range(len(a1)):\n",
    "    s.append(a1[i] + a2[i])\n",
    "\n",
    "s"
   ]
  },
  {
   "cell_type": "code",
   "execution_count": 6,
   "metadata": {},
   "outputs": [
    {
     "data": {
      "text/plain": [
       "[0, 1, 2, 3, 4]"
      ]
     },
     "execution_count": 6,
     "metadata": {},
     "output_type": "execute_result"
    }
   ],
   "source": [
    "#리스트의 원소를 직접 반복문에서 사용하기\n",
    "\n",
    "list(range(5))"
   ]
  },
  {
   "cell_type": "code",
   "execution_count": 7,
   "metadata": {},
   "outputs": [
    {
     "name": "stdout",
     "output_type": "stream",
     "text": [
      "0\n",
      "1\n",
      "2\n",
      "3\n",
      "4\n"
     ]
    }
   ],
   "source": [
    "for i in range(5):\n",
    "    print(i)"
   ]
  },
  {
   "cell_type": "code",
   "execution_count": 8,
   "metadata": {},
   "outputs": [
    {
     "name": "stdout",
     "output_type": "stream",
     "text": [
      "0\n",
      "1\n",
      "2\n",
      "3\n",
      "4\n"
     ]
    }
   ],
   "source": [
    "for i in [0, 1, 2, 3, 4]:\n",
    "    print(i)"
   ]
  },
  {
   "cell_type": "code",
   "execution_count": 9,
   "metadata": {},
   "outputs": [
    {
     "data": {
      "text/plain": [
       "86.5"
      ]
     },
     "execution_count": 9,
     "metadata": {},
     "output_type": "execute_result"
    }
   ],
   "source": [
    "sum = 0\n",
    "for ai in a:\n",
    "    sum = sum + ai\n",
    "average = sum / len(a)\n",
    "average"
   ]
  },
  {
   "cell_type": "code",
   "execution_count": 10,
   "metadata": {},
   "outputs": [],
   "source": [
    "#리스트의 리스트\n",
    "\n",
    "X = [[85,  90,  20,  50,  60,  25,  30,  75,  40,  55],\n",
    "     [70, 100,  70,  70,  55,  75,  55,  60,  40,  45],\n",
    "     [25,  65,  15,  25,  20,   5,  60,  70,  35,  10],\n",
    "     [80,  45,  80,  40,  75,  35,  80,  55,  70,  90],\n",
    "     [35,  50,  75,  25,  35,  70,  65,  50,  70,  10]]"
   ]
  },
  {
   "cell_type": "code",
   "execution_count": 11,
   "metadata": {},
   "outputs": [
    {
     "data": {
      "text/plain": [
       "52.7"
      ]
     },
     "execution_count": 11,
     "metadata": {},
     "output_type": "execute_result"
    }
   ],
   "source": [
    "sum = 0\n",
    "num = 0\n",
    "for i in range(len(X)):\n",
    "    for j in range(len(X[i])):\n",
    "        num = num + 1\n",
    "        sum = sum + X[i][j]\n",
    "\n",
    "sum / num "
   ]
  },
  {
   "cell_type": "code",
   "execution_count": 1,
   "metadata": {},
   "outputs": [
    {
     "name": "stdout",
     "output_type": "stream",
     "text": [
      "3.3636363636363638\n"
     ]
    }
   ],
   "source": [
    "#연습문제 2.10.1\n",
    "\n",
    "X=[4,3,2,3,4]\n",
    "\n",
    "W=[3,3,1,2,2]\n",
    "\n",
    "weigh = 0\n",
    "\n",
    "for i in range(len(X)):\n",
    "    weigh = weigh + X[i] * W[i]\n",
    "\n",
    "print(weigh / sum(W))\n",
    "\n",
    "\n"
   ]
  },
  {
   "cell_type": "code",
   "execution_count": 14,
   "metadata": {},
   "outputs": [
    {
     "data": {
      "text/plain": [
       "[(90, 95),\n",
       " (85, 90),\n",
       " (95, 90),\n",
       " (80, 90),\n",
       " (90, 95),\n",
       " (100, 100),\n",
       " (85, 90),\n",
       " (75, 80),\n",
       " (85, 95),\n",
       " (80, 90)]"
      ]
     },
     "execution_count": 14,
     "metadata": {},
     "output_type": "execute_result"
    }
   ],
   "source": [
    "#zip 함수\n",
    "\n",
    "a12 = list(zip(a1, a2))\n",
    "a12"
   ]
  },
  {
   "cell_type": "code",
   "execution_count": 15,
   "metadata": {},
   "outputs": [
    {
     "data": {
      "text/plain": [
       "[185, 175, 185, 170, 185, 200, 175, 155, 180, 170]"
      ]
     },
     "execution_count": 15,
     "metadata": {},
     "output_type": "execute_result"
    }
   ],
   "source": [
    "s = []\n",
    "a1 = [90, 85, 95, 80, 90, 100, 85, 75, 85, 80]\n",
    "a2 = [95, 90, 90, 90, 95, 100, 90, 80, 95, 90]\n",
    "for a1i, a2i in zip(a1, a2):\n",
    "    s.append(a1i + a2i)\n",
    "s"
   ]
  },
  {
   "cell_type": "code",
   "execution_count": 16,
   "metadata": {},
   "outputs": [
    {
     "data": {
      "text/plain": [
       "[(90, 95),\n",
       " (85, 90),\n",
       " (95, 90),\n",
       " (80, 90),\n",
       " (90, 95),\n",
       " (100, 100),\n",
       " (85, 90),\n",
       " (75, 80),\n",
       " (85, 95),\n",
       " (80, 90)]"
      ]
     },
     "execution_count": 16,
     "metadata": {},
     "output_type": "execute_result"
    }
   ],
   "source": [
    "a12"
   ]
  },
  {
   "cell_type": "code",
   "execution_count": 17,
   "metadata": {},
   "outputs": [
    {
     "data": {
      "text/plain": [
       "[(90, 85, 95, 80, 90, 100, 85, 75, 85, 80),\n",
       " (95, 90, 90, 90, 95, 100, 90, 80, 95, 90)]"
      ]
     },
     "execution_count": 17,
     "metadata": {},
     "output_type": "execute_result"
    }
   ],
   "source": [
    "a21 = list(zip(*a12))\n",
    "\n",
    "a21"
   ]
  },
  {
   "cell_type": "code",
   "execution_count": 18,
   "metadata": {},
   "outputs": [
    {
     "data": {
      "text/plain": [
       "[(90, 95),\n",
       " (85, 90),\n",
       " (95, 90),\n",
       " (80, 90),\n",
       " (90, 95),\n",
       " (100, 100),\n",
       " (85, 90),\n",
       " (75, 80),\n",
       " (85, 95),\n",
       " (80, 90)]"
      ]
     },
     "execution_count": 18,
     "metadata": {},
     "output_type": "execute_result"
    }
   ],
   "source": [
    "list(zip(*a21))"
   ]
  },
  {
   "cell_type": "code",
   "execution_count": 19,
   "metadata": {},
   "outputs": [
    {
     "name": "stdout",
     "output_type": "stream",
     "text": [
      "('길동', '철수', '영수', '방자')\n"
     ]
    }
   ],
   "source": [
    "#연습문제 2.10.3\n",
    "\n",
    "x = [\n",
    "  [\"길동\", 90],\n",
    "  [\"철수\", 80],\n",
    "  [\"영수\", 70],\n",
    "  [\"방자\", 60],\n",
    "]\n",
    "\n",
    "z1, z2 = list(zip(*x))\n",
    "\n",
    "print(z1)"
   ]
  },
  {
   "cell_type": "code",
   "execution_count": null,
   "metadata": {},
   "outputs": [],
   "source": []
  }
 ],
 "metadata": {
  "kernelspec": {
   "display_name": "Python 3",
   "language": "python",
   "name": "python3"
  },
  "language_info": {
   "codemirror_mode": {
    "name": "ipython",
    "version": 3
   },
   "file_extension": ".py",
   "mimetype": "text/x-python",
   "name": "python",
   "nbconvert_exporter": "python",
   "pygments_lexer": "ipython3",
   "version": "3.11.4"
  },
  "orig_nbformat": 4
 },
 "nbformat": 4,
 "nbformat_minor": 2
}
